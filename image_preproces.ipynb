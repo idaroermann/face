{
 "cells": [
  {
   "cell_type": "markdown",
   "metadata": {},
   "source": [
    "This script preproces the .csv file with the image data: extracts the data of interest (happy/angry), converts to .png \n",
    "\n",
    "These images are then loaded in eslp_image.py , that uses a pretrained network (Imagenet) to predict features from images. \n",
    "These features are finetuned and used for building a classifier in eslp_fine_tune.py , that return and save an image model, that predicts a class (happy/angry) for a given image. \n",
    "\n"
   ]
  },
  {
   "cell_type": "code",
   "execution_count": null,
   "metadata": {
    "collapsed": true
   },
   "outputs": [],
   "source": [
    "df=pd.read_csv(\"fer2013/fer2013.csv\")#image data\n",
    "\n",
    "#0=Angry, 1=Disgust, 2=Fear, 3=Happy, 4=Sad, 5=Surprise, 6=Neutral\n",
    "angry_df=df[df.emotion == 0]\n",
    "happy_df=df[df.emotion == 3]\n",
    "#neutral_df=df[df.emotion == 6]\n",
    "\n",
    "\n",
    "#######################################################################\n",
    "#save to folder as png-files, takes some time!\n",
    "count=0\n",
    "for row in angry_df.iterrows():\n",
    "    image_feat=angry_df.iloc[count]['pixels'].split()\n",
    "    image_feat = [int(i) for i in image_feat]\n",
    "    new=np.array(image_feat).reshape((48,48)).astype(np.uint8)\n",
    "    im = Image.fromarray(new)\n",
    "    im.save('pngs/angry/output{}.png'.format(count))\n",
    "    count=count+1\n",
    "    \n",
    "count=0\n",
    "for row in happy_df.iterrows():\n",
    "    image_feat=happy_df.iloc[count]['pixels'].split()\n",
    "    image_feat = [int(i) for i in image_feat]\n",
    "    new=np.array(image_feat).reshape((48,48)).astype(np.uint8)\n",
    "    im = Image.fromarray(new)\n",
    "    im.save('pngs/happy/output{}.png'.format(count))\n",
    "    count=count+1\n",
    "\n",
    "########################################################################\n",
    "\n"
   ]
  },
  {
   "cell_type": "code",
   "execution_count": null,
   "metadata": {
    "collapsed": true
   },
   "outputs": [],
   "source": [
    "! eslp_image.py#takes filepath to pngs \n",
    "! eslp_fine_tune.py#takes features and model made in eslp_image.py"
   ]
  }
 ],
 "metadata": {
  "kernelspec": {
   "display_name": "Python 3",
   "language": "python",
   "name": "python3"
  },
  "language_info": {
   "codemirror_mode": {
    "name": "ipython",
    "version": 3
   },
   "file_extension": ".py",
   "mimetype": "text/x-python",
   "name": "python",
   "nbconvert_exporter": "python",
   "pygments_lexer": "ipython3",
   "version": "3.6.0"
  }
 },
 "nbformat": 4,
 "nbformat_minor": 2
}
